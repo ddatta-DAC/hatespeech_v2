{
 "cells": [
  {
   "cell_type": "code",
   "execution_count": 49,
   "id": "administrative-coaching",
   "metadata": {},
   "outputs": [],
   "source": [
    "import json\n",
    "import pandas as pd\n",
    "\n",
    "### ========\n",
    "### Manually curate some negative instances \n",
    "### ========\n",
    "\n",
    "\n",
    "manual_negtiveSample_ids =  []\n",
    "with open('./../../Data_042021/auxillary/manual_negative_ids.txt','r') as fh:\n",
    "    for _line_ in fh.readlines():\n",
    "        manual_negtiveSample_ids.append(_line_.strip())\n",
    "\n",
    "manually_curated_negative_articles = []\n",
    "\n",
    "with open('./../../Data_042021/auxillary/zipnews_classified.json','r') as fh:\n",
    "    for _line_ in fh.readlines():\n",
    "        _dict_ = json.loads(_line_)\n",
    "        if _dict_['id'] in manual_negtiveSample_ids:\n",
    "            manually_curated_negative_articles.append(_dict_)\n",
    "\n",
    "with open('./../../Data_042021/ground_truth/negative/negative_manual_1.json', 'w') as fh:\n",
    "    for _line_ in manually_curated_negative_articles:\n",
    "        print(json.dumps(_line_), file=fh)\n",
    "        "
   ]
  },
  {
   "cell_type": "code",
   "execution_count": 50,
   "id": "conceptual-chess",
   "metadata": {},
   "outputs": [
    {
     "name": "stdout",
     "output_type": "stream",
     "text": [
      "Number of added articles : 16\n"
     ]
    }
   ],
   "source": [
    "print('Number of added articles :', len(manually_curated_negative_articles))"
   ]
  },
  {
   "cell_type": "code",
   "execution_count": null,
   "id": "acquired-causing",
   "metadata": {},
   "outputs": [],
   "source": []
  },
  {
   "cell_type": "code",
   "execution_count": null,
   "id": "specified-audience",
   "metadata": {},
   "outputs": [],
   "source": []
  }
 ],
 "metadata": {
  "kernelspec": {
   "display_name": "Python 3",
   "language": "python",
   "name": "python3"
  },
  "language_info": {
   "codemirror_mode": {
    "name": "ipython",
    "version": 3
   },
   "file_extension": ".py",
   "mimetype": "text/x-python",
   "name": "python",
   "nbconvert_exporter": "python",
   "pygments_lexer": "ipython3",
   "version": "3.7.9"
  }
 },
 "nbformat": 4,
 "nbformat_minor": 5
}
